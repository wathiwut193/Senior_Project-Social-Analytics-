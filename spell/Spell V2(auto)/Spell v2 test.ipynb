{
 "cells": [
  {
   "cell_type": "code",
   "execution_count": 16,
   "metadata": {},
   "outputs": [],
   "source": [
    "from spellcheck import *"
   ]
  },
  {
   "cell_type": "code",
   "execution_count": 4,
   "metadata": {},
   "outputs": [
    {
     "name": "stdout",
     "output_type": "stream",
     "text": [
      "ไทย\n",
      "เวียดนาม\n",
      "ซิมบับเว\n",
      "เกาหลีเหนือ\n",
      "เกาหลีใต้\n"
     ]
    }
   ],
   "source": [
    "print(correction('ไยทท'))\n",
    "print(correction('เลียดวาม'))\n",
    "print(correction('ซิบัมเว'))\n",
    "print(correction('เกาหรีเหมือ'))\n",
    "print(correction('เกาหรีไต้'))"
   ]
  },
  {
   "cell_type": "code",
   "execution_count": 5,
   "metadata": {},
   "outputs": [
    {
     "name": "stdout",
     "output_type": "stream",
     "text": [
      "ชัยภูมิ\n",
      "เลย\n",
      "จันทบุรี\n",
      "กระบี่\n",
      "สมุทรปราการ\n"
     ]
    }
   ],
   "source": [
    "print(correction('ชัยภูม'))\n",
    "print(correction('เลยย'))\n",
    "print(correction('จันทุรบี'))\n",
    "print(correction('กระบี่'))\n",
    "print(correction('สมุทปาการ'))"
   ]
  },
  {
   "cell_type": "code",
   "execution_count": 6,
   "metadata": {},
   "outputs": [
    {
     "name": "stdout",
     "output_type": "stream",
     "text": [
      "นายายอาม\n",
      "เฉลิมพระเกียรติ\n",
      "ดุสิต\n",
      "ลงหาดบางแสน\n"
     ]
    }
   ],
   "source": [
    "print(correction('นายายอัน'))\n",
    "print(correction('เฉลิมพระเกียร'))\n",
    "print(correction('ดสิตต'))\n",
    "print(correction('ลงหาดบางแสรนะ'))"
   ]
  },
  {
   "cell_type": "code",
   "execution_count": 7,
   "metadata": {},
   "outputs": [
    {
     "name": "stdout",
     "output_type": "stream",
     "text": [
      "บ้านโคก\n",
      "ไทรงาม\n",
      "สวนแตง\n",
      "ศรีพนา\n"
     ]
    }
   ],
   "source": [
    "print(correction('บ้านโขง'))\n",
    "print(correction('ไทรงา'))\n",
    "print(correction('สวนแต'))\n",
    "print(correction('ศรีพาน'))"
   ]
  },
  {
   "cell_type": "code",
   "execution_count": 8,
   "metadata": {},
   "outputs": [
    {
     "name": "stdout",
     "output_type": "stream",
     "text": [
      "สุขุมวิท\n",
      "สายเอเชีย\n",
      "เพชรเกษม\n",
      "สุขสวัสดิ์\n",
      "แจ้งวัฒนะ\n"
     ]
    }
   ],
   "source": [
    "print(correction('สุขุมวิทท'))\n",
    "print(correction('สายเอเชียย'))\n",
    "print(correction('เพชเกสม'))\n",
    "print(correction('สุกสวัสด์'))\n",
    "print(correction('แจ่งวัทนะ'))"
   ]
  },
  {
   "cell_type": "code",
   "execution_count": null,
   "metadata": {},
   "outputs": [],
   "source": []
  }
 ],
 "metadata": {
  "kernelspec": {
   "display_name": "Python 3",
   "language": "python",
   "name": "python3"
  },
  "language_info": {
   "codemirror_mode": {
    "name": "ipython",
    "version": 3
   },
   "file_extension": ".py",
   "mimetype": "text/x-python",
   "name": "python",
   "nbconvert_exporter": "python",
   "pygments_lexer": "ipython3",
   "version": "3.6.5"
  }
 },
 "nbformat": 4,
 "nbformat_minor": 2
}
